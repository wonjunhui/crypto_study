{
 "cells": [
  {
   "cell_type": "code",
   "execution_count": 1,
   "metadata": {},
   "outputs": [
    {
     "name": "stdout",
     "output_type": "stream",
     "text": [
      "Requirement already satisfied: pandas in /opt/conda/lib/python3.8/site-packages (1.1.2)\n",
      "Collecting pybithumb\n",
      "  Downloading pybithumb-1.0.14-py3-none-any.whl (7.9 kB)\n",
      "Requirement already satisfied: pytz>=2017.2 in /opt/conda/lib/python3.8/site-packages (from pandas) (2020.1)\n",
      "Requirement already satisfied: numpy>=1.15.4 in /opt/conda/lib/python3.8/site-packages (from pandas) (1.19.1)\n",
      "Requirement already satisfied: python-dateutil>=2.7.3 in /opt/conda/lib/python3.8/site-packages (from pandas) (2.8.1)\n",
      "Requirement already satisfied: requests in /opt/conda/lib/python3.8/site-packages (from pybithumb) (2.24.0)\n",
      "Collecting html5lib\n",
      "  Downloading html5lib-1.1-py2.py3-none-any.whl (112 kB)\n",
      "\u001b[K     |████████████████████████████████| 112 kB 1.4 MB/s eta 0:00:01\n",
      "\u001b[?25hCollecting datetime\n",
      "  Downloading DateTime-4.3-py2.py3-none-any.whl (60 kB)\n",
      "\u001b[K     |████████████████████████████████| 60 kB 3.0 MB/s eta 0:00:011\n",
      "\u001b[?25hCollecting bs4\n",
      "  Downloading bs4-0.0.1.tar.gz (1.1 kB)\n",
      "Requirement already satisfied: six>=1.5 in /opt/conda/lib/python3.8/site-packages (from python-dateutil>=2.7.3->pandas) (1.15.0)\n",
      "Requirement already satisfied: chardet<4,>=3.0.2 in /opt/conda/lib/python3.8/site-packages (from requests->pybithumb) (3.0.4)\n",
      "Requirement already satisfied: certifi>=2017.4.17 in /opt/conda/lib/python3.8/site-packages (from requests->pybithumb) (2020.6.20)\n",
      "Requirement already satisfied: idna<3,>=2.5 in /opt/conda/lib/python3.8/site-packages (from requests->pybithumb) (2.10)\n",
      "Requirement already satisfied: urllib3!=1.25.0,!=1.25.1,<1.26,>=1.21.1 in /opt/conda/lib/python3.8/site-packages (from requests->pybithumb) (1.25.10)\n",
      "Requirement already satisfied: webencodings in /opt/conda/lib/python3.8/site-packages (from html5lib->pybithumb) (0.5.1)\n",
      "Collecting zope.interface\n",
      "  Downloading zope.interface-5.2.0-cp38-cp38-manylinux2010_x86_64.whl (244 kB)\n",
      "\u001b[K     |████████████████████████████████| 244 kB 2.8 MB/s eta 0:00:01\n",
      "\u001b[?25hRequirement already satisfied: beautifulsoup4 in /opt/conda/lib/python3.8/site-packages (from bs4->pybithumb) (4.9.1)\n",
      "Requirement already satisfied: setuptools in /opt/conda/lib/python3.8/site-packages (from zope.interface->datetime->pybithumb) (49.6.0.post20200917)\n",
      "Requirement already satisfied: soupsieve>1.2 in /opt/conda/lib/python3.8/site-packages (from beautifulsoup4->bs4->pybithumb) (2.0.1)\n",
      "Building wheels for collected packages: bs4\n",
      "  Building wheel for bs4 (setup.py) ... \u001b[?25ldone\n",
      "\u001b[?25h  Created wheel for bs4: filename=bs4-0.0.1-py3-none-any.whl size=1273 sha256=eedf7c80a89b6ed7df8aed6ef3a0ae65f61c1c8f4b14ef698267be3a92ec13e7\n",
      "  Stored in directory: /home/jovyan/.cache/pip/wheels/75/78/21/68b124549c9bdc94f822c02fb9aa3578a669843f9767776bca\n",
      "Successfully built bs4\n",
      "Installing collected packages: html5lib, zope.interface, datetime, bs4, pybithumb\n",
      "Successfully installed bs4-0.0.1 datetime-4.3 html5lib-1.1 pybithumb-1.0.14 zope.interface-5.2.0\n"
     ]
    }
   ],
   "source": [
    "!pip3 install pandas pybithumb"
   ]
  },
  {
   "cell_type": "code",
   "execution_count": 3,
   "metadata": {},
   "outputs": [
    {
     "name": "stdout",
     "output_type": "stream",
     "text": [
      "time\n",
      "2013-12-27 00:00:00           NaN\n",
      "2013-12-28 00:00:00           NaN\n",
      "2013-12-29 00:00:00           NaN\n",
      "2013-12-30 00:00:00           NaN\n",
      "2013-12-31 00:00:00      756000.0\n",
      "                          ...    \n",
      "2020-11-05 00:00:00    15776600.0\n",
      "2020-11-06 00:00:00    16115600.0\n",
      "2020-11-07 00:00:00    16476000.0\n",
      "2020-11-08 00:00:00    16778000.0\n",
      "2020-11-09 23:00:00    17053000.0\n",
      "Name: close, Length: 2420, dtype: float64\n"
     ]
    }
   ],
   "source": [
    "import pybithumb\n",
    "\n",
    "df = pybithumb.get_candlestick(\"BTC\")\n",
    "close = df['close']\n",
    "ma5 = close.rolling(5).mean()\n",
    "print(ma5)\n"
   ]
  },
  {
   "cell_type": "code",
   "execution_count": 4,
   "metadata": {},
   "outputs": [],
   "source": [
    "def get_yesterday_ma5(ticker):\n",
    "    df = pybithumb.get_ohlcv(ticker)\n",
    "    close = df['close']\n",
    "    ma = close.rolling(window=5).mean()\n",
    "    return ma[-2]\n"
   ]
  },
  {
   "cell_type": "code",
   "execution_count": 7,
   "metadata": {},
   "outputs": [
    {
     "name": "stdout",
     "output_type": "stream",
     "text": [
      "17049600.0\n",
      "760400.0\n"
     ]
    }
   ],
   "source": [
    "btc = pybithumb.get_candlestick(\"BTC\")\n",
    "close = btc['close']\n",
    "print((close[-1] + close[-2] + close[-3] + close[-4] + close[-5]) / 5)\n",
    "print((close[1] + close[2] + close[3] + close[4] + close[5]) / 5)\n"
   ]
  },
  {
   "cell_type": "code",
   "execution_count": 14,
   "metadata": {},
   "outputs": [
    {
     "name": "stdout",
     "output_type": "stream",
     "text": [
      "16778000.0\n",
      "17045000.0\n",
      "16778000.0\n",
      "상승장\n"
     ]
    }
   ],
   "source": [
    "df = pybithumb.get_candlestick(\"BTC\")\n",
    "ma5 = df['close'].rolling(window=5).mean()\n",
    "last_ma5 = ma5[-2]\n",
    "# print(ma5)\n",
    "print(last_ma5)\n",
    "price = pybithumb.get_current_price(\"BTC\")\n",
    "\n",
    "print(price)\n",
    "print(last_ma5)\n",
    "if price > last_ma5:\n",
    "    print(\"상승장\")\n",
    "else:\n",
    "    print(\"하락장\")\n"
   ]
  },
  {
   "cell_type": "code",
   "execution_count": null,
   "metadata": {},
   "outputs": [],
   "source": []
  }
 ],
 "metadata": {
  "kernelspec": {
   "display_name": "Python 3",
   "language": "python",
   "name": "python3"
  },
  "language_info": {
   "codemirror_mode": {
    "name": "ipython",
    "version": 3
   },
   "file_extension": ".py",
   "mimetype": "text/x-python",
   "name": "python",
   "nbconvert_exporter": "python",
   "pygments_lexer": "ipython3",
   "version": "3.8.5"
  }
 },
 "nbformat": 4,
 "nbformat_minor": 4
}
